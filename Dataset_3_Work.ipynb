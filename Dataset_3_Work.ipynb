{
 "cells": [
  {
   "cell_type": "code",
   "execution_count": 1,
   "id": "74ae5a50",
   "metadata": {},
   "outputs": [],
   "source": [
    "import tensorflow as tf\n",
    "from IPython.display import clear_output\n",
    "tf.keras.utils.set_random_seed(42)\n",
    "import skdim\n",
    "import time\n",
    "import numpy as np\n",
    "import pickle\n",
    "from sklearn.model_selection import train_test_split\n",
    "import pandas as pd\n",
    "from sklearn.metrics import f1_score"
   ]
  },
  {
   "cell_type": "markdown",
   "id": "aee9dc4d",
   "metadata": {},
   "source": [
    "### Import data and obtain the number of labels:"
   ]
  },
  {
   "cell_type": "code",
   "execution_count": 2,
   "id": "7096207e",
   "metadata": {},
   "outputs": [],
   "source": [
    "filename = 'data/dataset3.pkl'\n",
    "\n",
    "with open(filename, 'rb') as f:\n",
    "    data_tuples = pickle.load(f)\n",
    "f.close()"
   ]
  },
  {
   "cell_type": "code",
   "execution_count": 3,
   "id": "c81b687d",
   "metadata": {},
   "outputs": [
    {
     "name": "stdout",
     "output_type": "stream",
     "text": [
      "Number of Data Points: 2500\n",
      "Class Labels: 5\n",
      "Feature Count: 175\n"
     ]
    }
   ],
   "source": [
    "print('Number of Data Points:', len(data_tuples))\n",
    "class_labels = []\n",
    "for i in range(len(data_tuples)):\n",
    "    class_labels.append(data_tuples[i][1])\n",
    "\n",
    "print('Class Labels:', len(set(class_labels)))\n",
    "print('Feature Count:', len(data_tuples[0][0]))"
   ]
  },
  {
   "cell_type": "markdown",
   "id": "813f7b26",
   "metadata": {},
   "source": [
    "### Perform Estimation"
   ]
  },
  {
   "cell_type": "code",
   "execution_count": 4,
   "id": "4504818a",
   "metadata": {},
   "outputs": [],
   "source": [
    "data = pd.DataFrame([i[0] for i in data_tuples])\n",
    "data = (data - np.min(data)) / (np.max(data) - np.min(data))\n",
    "labels = pd.DataFrame([i[1] for i in data_tuples])"
   ]
  },
  {
   "cell_type": "code",
   "execution_count": 5,
   "id": "343f8856-e790-43b0-8a1d-74112c4fd287",
   "metadata": {},
   "outputs": [
    {
     "name": "stdout",
     "output_type": "stream",
     "text": [
      "--- 0.20076894760131836 seconds ---\n",
      "31.394195805715704\n"
     ]
    }
   ],
   "source": [
    "start_time = time.time()\n",
    "\n",
    "\n",
    "#estimate local intrinsic dimension (dimension in k-nearest-neighborhoods around each point):\n",
    "est = skdim.id.MOM().fit(data,\n",
    "                              n_neighbors = 125,\n",
    "                              n_jobs = -1,)\n",
    "\n",
    "print(\"--- %s seconds ---\" % (time.time() - start_time))\n",
    "\n",
    "#get estimated intrinsic dimension\n",
    "print(np.mean(est.dimension_pw_))"
   ]
  },
  {
   "cell_type": "markdown",
   "id": "dccbfa20-4939-4d4a-819e-c5c5add8377f",
   "metadata": {},
   "source": [
    "### Perform Dimensionality Reduction (Autoencoder Testing) ###"
   ]
  },
  {
   "cell_type": "code",
   "execution_count": 13,
   "id": "d113d0e7",
   "metadata": {},
   "outputs": [],
   "source": [
    "X_train, X_test, y_train, y_test = train_test_split(data, labels, test_size=0.2, random_state=42, stratify=labels)"
   ]
  },
  {
   "cell_type": "code",
   "execution_count": 14,
   "id": "99788269",
   "metadata": {},
   "outputs": [],
   "source": [
    "ds_tr = tf.data.Dataset.from_tensor_slices(X_train)\n",
    "ds_te = tf.data.Dataset.from_tensor_slices(X_test)"
   ]
  },
  {
   "cell_type": "code",
   "execution_count": 15,
   "id": "f4605e98-cc03-4cb9-adad-13ff4a0cc562",
   "metadata": {},
   "outputs": [],
   "source": [
    "def coefficient(low, id, high):\n",
    "    return (high-id)/(high-low)"
   ]
  },
  {
   "cell_type": "code",
   "execution_count": 16,
   "id": "52cf19f5",
   "metadata": {},
   "outputs": [],
   "source": [
    "ID = 30"
   ]
  },
  {
   "cell_type": "code",
   "execution_count": 17,
   "id": "d6d16254",
   "metadata": {
    "scrolled": true
   },
   "outputs": [
    {
     "name": "stdout",
     "output_type": "stream",
     "text": [
      "Result of 25: \n",
      "\t(trn) 0.005273125134408474 \t(val) 0.005240283906459808\n",
      "\n",
      "Result of 30: \n",
      "\t(trn) 0.00500495545566082 \t(val) 0.004959446378052235\n",
      "\n",
      "Result of 35: \n",
      "\t(trn) 0.004839451517909765 \t(val) 0.004759068135172129\n",
      "\n",
      "Coefficient: 0.4163999910973744\n",
      "\n",
      "Elbow Calculation: 83.96098260889165\n",
      "\n",
      "Trn-Val Difference of ID: 4.550907760858536e-05\n"
     ]
    }
   ],
   "source": [
    "tf.keras.utils.set_random_seed(42) # extra code – ensures reproducibility on CPU\n",
    "\n",
    "radius = 5\n",
    "\n",
    "shape = len(data_tuples[0][0])\n",
    "\n",
    "input = tf.keras.layers.Input(shape=(shape,))\n",
    "\n",
    "latent_minus = tf.keras.layers.Dense(max(ID-radius, 1), activation=\"relu\")(input)\n",
    "latent_id = tf.keras.layers.Dense(ID, activation=\"relu\")(input)\n",
    "latent_plus = tf.keras.layers.Dense(ID+radius, activation=\"relu\")(input)\n",
    "\n",
    "output_minus = tf.keras.layers.Dense(shape)(latent_minus)\n",
    "output_id = tf.keras.layers.Dense(shape)(latent_id)\n",
    "output_plus = tf.keras.layers.Dense(shape)(latent_plus)\n",
    "\n",
    "model = tf.keras.Model(inputs=[input],\n",
    "                       outputs=[output_minus, output_id, output_plus])\n",
    "\n",
    "model.compile(loss=\"mse\", optimizer=\"nadam\",\n",
    "              metrics=[\"RootMeanSquaredError\"])\n",
    "history = model.fit(X_train, X_train, epochs=10,\n",
    "                         validation_data=(X_test, X_test))\n",
    "\n",
    "results = []\n",
    "\n",
    "for i in history.history:\n",
    "    results.append((i, history.history[i][-1]))\n",
    "\n",
    "# 'ID - radius' validation loss\n",
    "(ID-radius), results[8][1]\n",
    "\n",
    "clear_output(wait=True)\n",
    "\n",
    "print(\"Result of {}: \\n\\t(trn) {} \\t(val) {}\\n\".format(max(ID-radius, 1), results[1][1], results[8][1]))\n",
    "print(\"Result of {}: \\n\\t(trn) {} \\t(val) {}\\n\".format(ID, results[2][1], results[9][1]))\n",
    "print(\"Result of {}: \\n\\t(trn) {} \\t(val) {}\\n\".format(ID+radius, results[3][1], results[10][1]))\n",
    "\n",
    "c = coefficient(results[8][1], results[9][1], results[10][1])\n",
    "\n",
    "print(\"Coefficient: {}\\n\".format(c))\n",
    "print(\"Elbow Calculation: {}\\n\".format(c/results[9][1]))\n",
    "print(\"Trn-Val Difference of ID: {}\".format(abs(results[9][1]-results[2][1])))"
   ]
  },
  {
   "cell_type": "markdown",
   "id": "3be55691-92a1-4ff7-acf4-9a8f4d5d399d",
   "metadata": {},
   "source": [
    "### Classifier(s) ###"
   ]
  },
  {
   "cell_type": "code",
   "execution_count": 18,
   "id": "7e10a60f",
   "metadata": {},
   "outputs": [],
   "source": [
    "ID = 30"
   ]
  },
  {
   "cell_type": "code",
   "execution_count": 21,
   "id": "6b5b8c3a-209f-4613-9abc-3d2295ea0ce2",
   "metadata": {},
   "outputs": [
    {
     "name": "stdout",
     "output_type": "stream",
     "text": [
      "--- 0.5460762977600098 seconds ---\n"
     ]
    }
   ],
   "source": [
    "model = tf.keras.Sequential([\n",
    "    tf.keras.layers.Input(shape=(shape,)),\n",
    "    tf.keras.layers.Dense(ID, activation='relu'),\n",
    "    tf.keras.layers.Dense(5)\n",
    "])\n",
    "\n",
    "model.compile(optimizer='adam',\n",
    "              loss=tf.keras.losses.SparseCategoricalCrossentropy(from_logits=True),\n",
    "              metrics=['accuracy'])\n",
    "\n",
    "start_time = time.time()\n",
    "\n",
    "model.fit(X_train, y_train, epochs=10)\n",
    "\n",
    "clear_output(wait=True)\n",
    "\n",
    "print(\"--- %s seconds ---\" % (time.time() - start_time))"
   ]
  },
  {
   "cell_type": "code",
   "execution_count": 23,
   "id": "dc5dd64a",
   "metadata": {},
   "outputs": [
    {
     "name": "stdout",
     "output_type": "stream",
     "text": [
      "16/16 [==============================] - 0s 591us/step - loss: 0.4722 - accuracy: 1.0000\n",
      "16/16 [==============================] - 0s 433us/step\n",
      "\n",
      "Test accuracy: 1.0\n",
      "\n",
      "Test F1 (weighted): 1.0\n"
     ]
    }
   ],
   "source": [
    "test_loss, test_acc = model.evaluate(X_test,  y_test)\n",
    "f1 = f1_score(y_test, [np.argmax(a) for a in model.predict(X_test)], average='weighted')\n",
    "\n",
    "print('\\nTest accuracy:', test_acc)\n",
    "print('\\nTest F1 (weighted):', f1)"
   ]
  },
  {
   "cell_type": "code",
   "execution_count": null,
   "id": "f83ac25f-8fc9-42bc-94f5-e4a82e1ecf13",
   "metadata": {},
   "outputs": [],
   "source": []
  }
 ],
 "metadata": {
  "kernelspec": {
   "display_name": "Python 3 (ipykernel)",
   "language": "python",
   "name": "python3"
  },
  "language_info": {
   "codemirror_mode": {
    "name": "ipython",
    "version": 3
   },
   "file_extension": ".py",
   "mimetype": "text/x-python",
   "name": "python",
   "nbconvert_exporter": "python",
   "pygments_lexer": "ipython3",
   "version": "3.9.17"
  }
 },
 "nbformat": 4,
 "nbformat_minor": 5
}
