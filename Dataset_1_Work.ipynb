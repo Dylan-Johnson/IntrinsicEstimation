{
 "cells": [
  {
   "cell_type": "code",
   "execution_count": 203,
   "id": "74ae5a50",
   "metadata": {},
   "outputs": [],
   "source": [
    "import tensorflow as tf\n",
    "from IPython.display import clear_output\n",
    "tf.keras.utils.set_random_seed(42)\n",
    "import skdim\n",
    "import time\n",
    "import numpy as np\n",
    "import pickle\n",
    "from sklearn.model_selection import train_test_split\n",
    "import pandas as pd\n",
    "import torch\n",
    "import torch.nn as nn\n",
    "import torch.optim as optim\n",
    "from torch.utils.data import TensorDataset, DataLoader"
   ]
  },
  {
   "cell_type": "markdown",
   "id": "aee9dc4d",
   "metadata": {},
   "source": [
    "### Import data and obtain the number of labels:"
   ]
  },
  {
   "cell_type": "code",
   "execution_count": 206,
   "id": "7096207e",
   "metadata": {},
   "outputs": [],
   "source": [
    "filename = 'data/dataset1.pkl'\n",
    "\n",
    "with open(filename, 'rb') as f:\n",
    "    data_tuples = pickle.load(f)\n",
    "f.close()"
   ]
  },
  {
   "cell_type": "code",
   "execution_count": 208,
   "id": "c81b687d",
   "metadata": {},
   "outputs": [
    {
     "name": "stdout",
     "output_type": "stream",
     "text": [
      "Number of Data Points: 1000\n",
      "Class Labels: 2\n"
     ]
    }
   ],
   "source": [
    "print('Number of Data Points:', len(data_tuples))\n",
    "class_labels = []\n",
    "for i in range(len(data_tuples)):\n",
    "    class_labels.append(data_tuples[i][1])\n",
    "\n",
    "print('Class Labels:', len(set(class_labels)))"
   ]
  },
  {
   "cell_type": "markdown",
   "id": "813f7b26",
   "metadata": {},
   "source": [
    "### Perform Estimation"
   ]
  },
  {
   "cell_type": "code",
   "execution_count": null,
   "id": "dc5dd64a",
   "metadata": {},
   "outputs": [],
   "source": []
  },
  {
   "cell_type": "code",
   "execution_count": 242,
   "id": "4504818a",
   "metadata": {},
   "outputs": [],
   "source": [
    "data = pd.DataFrame([i[0] for i in data_tuples])\n",
    "data = (data - np.min(data)) / (np.max(data) - np.min(data))\n",
    "labels = pd.DataFrame([i[1] for i in data_tuples])"
   ]
  },
  {
   "cell_type": "code",
   "execution_count": 243,
   "id": "d113d0e7",
   "metadata": {},
   "outputs": [],
   "source": [
    "X_train, X_test, y_train, y_test = train_test_split(data, labels, test_size=0.2, random_state=42, stratify=labels)"
   ]
  },
  {
   "cell_type": "code",
   "execution_count": 244,
   "id": "99788269",
   "metadata": {},
   "outputs": [],
   "source": [
    "ds_tr = tf.data.Dataset.from_tensor_slices(X_train)\n",
    "ds_te = tf.data.Dataset.from_tensor_slices(X_test)"
   ]
  },
  {
   "cell_type": "code",
   "execution_count": 276,
   "id": "d6d16254",
   "metadata": {},
   "outputs": [
    {
     "name": "stdout",
     "output_type": "stream",
     "text": [
      "Result of 30: 0.008636359125375748\n",
      "\n",
      "Result of 35: 0.008770311251282692\n",
      "\n",
      "Result of 40: 0.008800744079053402\n",
      "\n",
      "Coefficient: 0.18513146787379536\n",
      "\n",
      "Elbow Calculation: 21.10888229271443\n",
      "\n"
     ]
    }
   ],
   "source": [
    "tf.keras.utils.set_random_seed(42) # extra code – ensures reproducibility on CPU\n",
    "\n",
    "ID = 35\n",
    "radius = 5\n",
    "\n",
    "shape = len(data_tuples[0][0])\n",
    "\n",
    "input = tf.keras.layers.Input(shape=(shape,))\n",
    "\n",
    "latent_minus = tf.keras.layers.Dense(max(ID-radius, 1), activation=\"relu\")(input)\n",
    "latent_id = tf.keras.layers.Dense(ID, activation=\"relu\")(input)\n",
    "latent_plus = tf.keras.layers.Dense(ID+radius, activation=\"relu\")(input)\n",
    "\n",
    "output_minus = tf.keras.layers.Dense(shape)(latent_minus)\n",
    "output_id = tf.keras.layers.Dense(shape)(latent_id)\n",
    "output_plus = tf.keras.layers.Dense(shape)(latent_plus)\n",
    "\n",
    "model = tf.keras.Model(inputs=[input],\n",
    "                       outputs=[output_minus, output_id, output_plus])\n",
    "\n",
    "model.compile(loss=\"mse\", optimizer=\"nadam\",\n",
    "              metrics=[\"RootMeanSquaredError\"])\n",
    "history = model.fit(X_train, X_train, epochs=10,\n",
    "                         validation_data=(X_test, X_test))\n",
    "\n",
    "results = []\n",
    "\n",
    "for i in history.history:\n",
    "    results.append((i, history.history[i][-1]))\n",
    "\n",
    "# 'ID - radius' validation loss\n",
    "(ID-radius), results[8][1]\n",
    "\n",
    "clear_output(wait=True)\n",
    "\n",
    "print(\"Result of {}: {}\\n\".format(max(ID-radius, 1),results[8][1]))\n",
    "print(\"Result of {}: {}\\n\".format(ID,results[9][1]))\n",
    "print(\"Result of {}: {}\\n\".format(ID+radius,results[10][1]))\n",
    "\n",
    "c = coefficient(results[8][1], results[9][1], results[10][1])\n",
    "\n",
    "print(\"Coefficient: {}\\n\".format(c))\n",
    "print(\"Elbow Calculation: {}\\n\".format(c/results[9][1]))"
   ]
  },
  {
   "cell_type": "code",
   "execution_count": null,
   "id": "4579ae4b",
   "metadata": {},
   "outputs": [],
   "source": []
  }
 ],
 "metadata": {
  "kernelspec": {
   "display_name": "Python 3 (ipykernel)",
   "language": "python",
   "name": "python3"
  },
  "language_info": {
   "codemirror_mode": {
    "name": "ipython",
    "version": 3
   },
   "file_extension": ".py",
   "mimetype": "text/x-python",
   "name": "python",
   "nbconvert_exporter": "python",
   "pygments_lexer": "ipython3",
   "version": "3.9.17"
  }
 },
 "nbformat": 4,
 "nbformat_minor": 5
}
