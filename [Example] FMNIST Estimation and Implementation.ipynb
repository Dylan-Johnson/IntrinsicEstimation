{
 "cells": [
  {
   "cell_type": "code",
   "execution_count": 2,
   "id": "e6883203",
   "metadata": {},
   "outputs": [],
   "source": [
    "import skdim\n",
    "import numpy as np\n",
    "import time\n",
    "import tensorflow as tf"
   ]
  },
  {
   "cell_type": "markdown",
   "id": "20e461a8",
   "metadata": {},
   "source": [
    "### Port fashion mnist dataset with (un)known intrinsic dimension:"
   ]
  },
  {
   "cell_type": "code",
   "execution_count": 3,
   "id": "bf6d9a8c",
   "metadata": {},
   "outputs": [],
   "source": [
    "fashion_mnist = tf.keras.datasets.fashion_mnist\n",
    "(train_images, train_labels), (test_images, test_labels) = fashion_mnist.load_data()\n",
    "\n",
    "train_images = train_images / 255.0\n",
    "\n",
    "test_images = test_images / 255.0"
   ]
  },
  {
   "cell_type": "markdown",
   "id": "ab57ea0b",
   "metadata": {},
   "source": [
    "### Obtain a sample estimation of ID:"
   ]
  },
  {
   "cell_type": "code",
   "execution_count": 4,
   "id": "19becccc",
   "metadata": {},
   "outputs": [],
   "source": [
    "data = train_images\n",
    "data = data.reshape((len(data), -1))"
   ]
  },
  {
   "cell_type": "code",
   "execution_count": null,
   "id": "6f92e766",
   "metadata": {},
   "outputs": [],
   "source": [
    "start_time = time.time()\n",
    "\n",
    "\n",
    "#estimate local intrinsic dimension (dimension in k-nearest-neighborhoods around each point):\n",
    "lpca = skdim.id.lPCA(verbose=True).fit_pw(data,\n",
    "                              n_neighbors = 100,\n",
    "                              n_jobs = -1,)\n",
    "\n",
    "print(\"--- %s seconds ---\" % (time.time() - start_time))\n",
    "\n",
    "#get estimated intrinsic dimension\n",
    "print(np.mean(lpca.dimension_pw_))\n",
    "print(\"lPCA (Local)\")"
   ]
  },
  {
   "cell_type": "markdown",
   "id": "060a45ae",
   "metadata": {},
   "source": [
    "### Investigate loss on different types of autoencoders (and mixes of IDs)"
   ]
  },
  {
   "cell_type": "code",
   "execution_count": 5,
   "id": "a9819a34",
   "metadata": {},
   "outputs": [],
   "source": [
    "X_train = train_images\n",
    "X_valid = test_images"
   ]
  },
  {
   "cell_type": "markdown",
   "id": "3eea2730",
   "metadata": {},
   "source": [
    "Standard autoencoder, 10 epochs: val_loss of 0.0196"
   ]
  },
  {
   "cell_type": "code",
   "execution_count": 6,
   "id": "e3503638",
   "metadata": {},
   "outputs": [
    {
     "name": "stdout",
     "output_type": "stream",
     "text": [
      "Epoch 1/10\n",
      "1875/1875 [==============================] - 2s 721us/step - loss: 0.0271 - val_loss: 0.0198\n",
      "Epoch 2/10\n",
      "1875/1875 [==============================] - 1s 647us/step - loss: 0.0196 - val_loss: 0.0192\n",
      "Epoch 3/10\n",
      "1875/1875 [==============================] - 1s 635us/step - loss: 0.0191 - val_loss: 0.0187\n",
      "Epoch 4/10\n",
      "1875/1875 [==============================] - 1s 638us/step - loss: 0.0184 - val_loss: 0.0183\n",
      "Epoch 5/10\n",
      "1875/1875 [==============================] - 1s 638us/step - loss: 0.0183 - val_loss: 0.0183\n",
      "Epoch 6/10\n",
      "1875/1875 [==============================] - 1s 655us/step - loss: 0.0183 - val_loss: 0.0182\n",
      "Epoch 7/10\n",
      "1875/1875 [==============================] - 1s 650us/step - loss: 0.0183 - val_loss: 0.0183\n",
      "Epoch 8/10\n",
      "1875/1875 [==============================] - 1s 627us/step - loss: 0.0183 - val_loss: 0.0182\n",
      "Epoch 9/10\n",
      "1875/1875 [==============================] - 1s 627us/step - loss: 0.0183 - val_loss: 0.0182\n",
      "Epoch 10/10\n",
      "1875/1875 [==============================] - 1s 672us/step - loss: 0.0183 - val_loss: 0.0182\n"
     ]
    }
   ],
   "source": [
    "tf.keras.utils.set_random_seed(42) # extra code – ensures reproducibility on CPU\n",
    "\n",
    "ID = 25\n",
    "#ID = 1\n",
    "\n",
    "stacked_encoder = tf.keras.Sequential([\n",
    "    tf.keras.layers.Flatten(input_shape=(28, 28)),\n",
    "    #tf.keras.layers.Dense(30, activation=\"relu\"),\n",
    "    #tf.keras.layers.Dense(20, activation=\"relu\"),\n",
    "    tf.keras.layers.Dense(ID, activation=\"relu\"),\n",
    "])\n",
    "stacked_decoder = tf.keras.Sequential([\n",
    "    #tf.keras.layers.Dense(20, activation=\"relu\"),\n",
    "    #tf.keras.layers.Dense(30, activation=\"relu\"),\n",
    "    tf.keras.layers.Dense(28 * 28),\n",
    "    tf.keras.layers.Reshape([28, 28])\n",
    "])\n",
    "stacked_ae = tf.keras.Sequential([stacked_encoder, stacked_decoder])\n",
    "\n",
    "stacked_ae.compile(loss=\"mse\", optimizer=\"nadam\")                   \n",
    "history = stacked_ae.fit(X_train, X_train, epochs=10,\n",
    "                         validation_data=(X_valid, X_valid))"
   ]
  },
  {
   "cell_type": "markdown",
   "id": "3f825ed2",
   "metadata": {},
   "source": [
    "Stacked autoencoder, 10 epochs: val_loss of 0.0119"
   ]
  },
  {
   "cell_type": "code",
   "execution_count": 17,
   "id": "9abf0295",
   "metadata": {
    "scrolled": true
   },
   "outputs": [
    {
     "name": "stdout",
     "output_type": "stream",
     "text": [
      "Epoch 1/10\n",
      "1875/1875 [==============================] - 12s 6ms/step - loss: 0.0213 - val_loss: 0.0162\n",
      "Epoch 2/10\n",
      "1875/1875 [==============================] - 11s 6ms/step - loss: 0.0152 - val_loss: 0.0146\n",
      "Epoch 3/10\n",
      "1875/1875 [==============================] - 11s 6ms/step - loss: 0.0139 - val_loss: 0.0134\n",
      "Epoch 4/10\n",
      "1875/1875 [==============================] - 11s 6ms/step - loss: 0.0132 - val_loss: 0.0129\n",
      "Epoch 5/10\n",
      "1875/1875 [==============================] - 11s 6ms/step - loss: 0.0127 - val_loss: 0.0129\n",
      "Epoch 6/10\n",
      "1875/1875 [==============================] - 11s 6ms/step - loss: 0.0124 - val_loss: 0.0122\n",
      "Epoch 7/10\n",
      "1875/1875 [==============================] - 11s 6ms/step - loss: 0.0122 - val_loss: 0.0123\n",
      "Epoch 8/10\n",
      "1875/1875 [==============================] - 10s 6ms/step - loss: 0.0120 - val_loss: 0.0119\n",
      "Epoch 9/10\n",
      "1875/1875 [==============================] - 11s 6ms/step - loss: 0.0118 - val_loss: 0.0119\n",
      "Epoch 10/10\n",
      "1875/1875 [==============================] - 11s 6ms/step - loss: 0.0117 - val_loss: 0.0119\n"
     ]
    }
   ],
   "source": [
    "tf.keras.utils.set_random_seed(42) # extra code – ensures reproducibility on CPU\n",
    "\n",
    "ID = 25\n",
    "\n",
    "stacked_encoder = tf.keras.Sequential([\n",
    "    tf.keras.layers.Flatten(input_shape=(28, 28)),\n",
    "    tf.keras.layers.Dense(380, activation=\"relu\"),\n",
    "    tf.keras.layers.Dense(190, activation=\"relu\"),\n",
    "    tf.keras.layers.Dense(ID, activation=\"relu\"),\n",
    "])\n",
    "stacked_decoder = tf.keras.Sequential([\n",
    "    #tf.keras.layers.Dense(ID, activation=\"relu\"),\n",
    "    tf.keras.layers.Dense(190, activation=\"relu\"),\n",
    "    tf.keras.layers.Dense(380, activation=\"relu\"),\n",
    "    tf.keras.layers.Dense(28 * 28),\n",
    "    tf.keras.layers.Reshape([28, 28])\n",
    "])\n",
    "stacked_ae = tf.keras.Sequential([stacked_encoder, stacked_decoder])\n",
    "\n",
    "stacked_ae.compile(loss=\"mse\", optimizer=\"nadam\")                   \n",
    "history = stacked_ae.fit(X_train, X_train, epochs=10,\n",
    "                         validation_data=(X_valid, X_valid))"
   ]
  },
  {
   "cell_type": "code",
   "execution_count": 20,
   "id": "523b02d5",
   "metadata": {},
   "outputs": [
    {
     "name": "stdout",
     "output_type": "stream",
     "text": [
      "1/1 [==============================] - 0s 11ms/step\n"
     ]
    },
    {
     "data": {
      "image/png": "[encoded data removed]",
      "text/plain": [
       "<Figure size 750x300 with 10 Axes>"
      ]
     },
     "metadata": {},
     "output_type": "display_data"
    }
   ],
   "source": [
    "import matplotlib.pyplot as plt\n",
    "import numpy as np\n",
    "\n",
    "def plot_reconstructions(model, images=X_valid, n_images=5):\n",
    "    reconstructions = np.clip(model.predict(images[:n_images]), 0, 1)\n",
    "    fig = plt.figure(figsize=(n_images * 1.5, 3))\n",
    "    for image_index in range(n_images):\n",
    "        plt.subplot(2, n_images, 1 + image_index)\n",
    "        plt.imshow(images[image_index], cmap=\"binary\")\n",
    "        plt.axis(\"off\")\n",
    "        plt.subplot(2, n_images, 1 + n_images + image_index)\n",
    "        plt.imshow(reconstructions[image_index], cmap=\"binary\")\n",
    "        plt.axis(\"off\")\n",
    "\n",
    "plot_reconstructions(stacked_ae)\n",
    "plt.show()"
   ]
  },
  {
   "cell_type": "markdown",
   "id": "53ed0d8f",
   "metadata": {},
   "source": [
    "### Classifier Comparison"
   ]
  },
  {
   "cell_type": "markdown",
   "id": "59d09072",
   "metadata": {},
   "source": [
    "Standard Tutorial Classifier: "
   ]
  },
  {
   "cell_type": "code",
   "execution_count": 11,
   "id": "901cc816",
   "metadata": {
    "scrolled": true
   },
   "outputs": [
    {
     "name": "stdout",
     "output_type": "stream",
     "text": [
      "Epoch 1/50\n",
      "1875/1875 [==============================] - 2s 716us/step - loss: 0.5005 - accuracy: 0.8255\n",
      "Epoch 2/50\n",
      "1875/1875 [==============================] - 1s 716us/step - loss: 0.3748 - accuracy: 0.8648\n",
      "Epoch 3/50\n",
      "1875/1875 [==============================] - 1s 722us/step - loss: 0.3363 - accuracy: 0.8781\n",
      "Epoch 4/50\n",
      "1875/1875 [==============================] - 1s 713us/step - loss: 0.3130 - accuracy: 0.8854\n",
      "Epoch 5/50\n",
      "1875/1875 [==============================] - 1s 717us/step - loss: 0.2947 - accuracy: 0.8917\n",
      "Epoch 6/50\n",
      "1875/1875 [==============================] - 1s 713us/step - loss: 0.2798 - accuracy: 0.8967\n",
      "Epoch 7/50\n",
      "1875/1875 [==============================] - 1s 712us/step - loss: 0.2682 - accuracy: 0.9010\n",
      "Epoch 8/50\n",
      "1875/1875 [==============================] - 1s 712us/step - loss: 0.2552 - accuracy: 0.9057\n",
      "Epoch 9/50\n",
      "1875/1875 [==============================] - 1s 731us/step - loss: 0.2469 - accuracy: 0.9085\n",
      "Epoch 10/50\n",
      "1875/1875 [==============================] - 1s 750us/step - loss: 0.2402 - accuracy: 0.9099\n",
      "Epoch 11/50\n",
      "1875/1875 [==============================] - 1s 711us/step - loss: 0.2294 - accuracy: 0.9142\n",
      "Epoch 12/50\n",
      "1875/1875 [==============================] - 1s 738us/step - loss: 0.2208 - accuracy: 0.9177\n",
      "Epoch 13/50\n",
      "1875/1875 [==============================] - 1s 720us/step - loss: 0.2151 - accuracy: 0.9196\n",
      "Epoch 14/50\n",
      "1875/1875 [==============================] - 1s 716us/step - loss: 0.2110 - accuracy: 0.9211\n",
      "Epoch 15/50\n",
      "1875/1875 [==============================] - 1s 722us/step - loss: 0.2016 - accuracy: 0.9246\n",
      "Epoch 16/50\n",
      "1875/1875 [==============================] - 1s 727us/step - loss: 0.1971 - accuracy: 0.9263\n",
      "Epoch 17/50\n",
      "1875/1875 [==============================] - 1s 724us/step - loss: 0.1920 - accuracy: 0.9288\n",
      "Epoch 18/50\n",
      "1875/1875 [==============================] - 1s 724us/step - loss: 0.1872 - accuracy: 0.9295\n",
      "Epoch 19/50\n",
      "1875/1875 [==============================] - 1s 716us/step - loss: 0.1833 - accuracy: 0.9319\n",
      "Epoch 20/50\n",
      "1875/1875 [==============================] - 1s 714us/step - loss: 0.1775 - accuracy: 0.9337\n",
      "Epoch 21/50\n",
      "1875/1875 [==============================] - 1s 754us/step - loss: 0.1747 - accuracy: 0.9341\n",
      "Epoch 22/50\n",
      "1875/1875 [==============================] - 1s 746us/step - loss: 0.1669 - accuracy: 0.9383\n",
      "Epoch 23/50\n",
      "1875/1875 [==============================] - 1s 738us/step - loss: 0.1677 - accuracy: 0.9373\n",
      "Epoch 24/50\n",
      "1875/1875 [==============================] - 1s 750us/step - loss: 0.1618 - accuracy: 0.9387\n",
      "Epoch 25/50\n",
      "1875/1875 [==============================] - 1s 730us/step - loss: 0.1560 - accuracy: 0.9418\n",
      "Epoch 26/50\n",
      "1875/1875 [==============================] - 1s 721us/step - loss: 0.1572 - accuracy: 0.9413\n",
      "Epoch 27/50\n",
      "1875/1875 [==============================] - 1s 718us/step - loss: 0.1512 - accuracy: 0.9427\n",
      "Epoch 28/50\n",
      "1875/1875 [==============================] - 1s 718us/step - loss: 0.1469 - accuracy: 0.9449\n",
      "Epoch 29/50\n",
      "1875/1875 [==============================] - 1s 716us/step - loss: 0.1426 - accuracy: 0.9472\n",
      "Epoch 30/50\n",
      "1875/1875 [==============================] - 1s 725us/step - loss: 0.1402 - accuracy: 0.9482\n",
      "Epoch 31/50\n",
      "1875/1875 [==============================] - 1s 723us/step - loss: 0.1376 - accuracy: 0.9481\n",
      "Epoch 32/50\n",
      "1875/1875 [==============================] - 1s 723us/step - loss: 0.1366 - accuracy: 0.9493\n",
      "Epoch 33/50\n",
      "1875/1875 [==============================] - 1s 781us/step - loss: 0.1333 - accuracy: 0.9495\n",
      "Epoch 34/50\n",
      "1875/1875 [==============================] - 1s 732us/step - loss: 0.1319 - accuracy: 0.9502\n",
      "Epoch 35/50\n",
      "1875/1875 [==============================] - 1s 720us/step - loss: 0.1271 - accuracy: 0.9522\n",
      "Epoch 36/50\n",
      "1875/1875 [==============================] - 1s 718us/step - loss: 0.1251 - accuracy: 0.9533\n",
      "Epoch 37/50\n",
      "1875/1875 [==============================] - 1s 727us/step - loss: 0.1217 - accuracy: 0.9538\n",
      "Epoch 38/50\n",
      "1875/1875 [==============================] - 1s 726us/step - loss: 0.1213 - accuracy: 0.9554\n",
      "Epoch 39/50\n",
      "1875/1875 [==============================] - 1s 726us/step - loss: 0.1187 - accuracy: 0.9556\n",
      "Epoch 40/50\n",
      "1875/1875 [==============================] - 1s 726us/step - loss: 0.1145 - accuracy: 0.9566\n",
      "Epoch 41/50\n",
      "1875/1875 [==============================] - 1s 729us/step - loss: 0.1144 - accuracy: 0.9563\n",
      "Epoch 42/50\n",
      "1875/1875 [==============================] - 1s 734us/step - loss: 0.1130 - accuracy: 0.9579\n",
      "Epoch 43/50\n",
      "1875/1875 [==============================] - 1s 722us/step - loss: 0.1108 - accuracy: 0.9587\n",
      "Epoch 44/50\n",
      "1875/1875 [==============================] - 1s 761us/step - loss: 0.1082 - accuracy: 0.9593\n",
      "Epoch 45/50\n",
      "1875/1875 [==============================] - 1s 791us/step - loss: 0.1056 - accuracy: 0.9611\n",
      "Epoch 46/50\n",
      "1875/1875 [==============================] - 1s 741us/step - loss: 0.1060 - accuracy: 0.9607\n",
      "Epoch 47/50\n",
      "1875/1875 [==============================] - 1s 730us/step - loss: 0.1011 - accuracy: 0.9624\n",
      "Epoch 48/50\n",
      "1875/1875 [==============================] - 1s 724us/step - loss: 0.0996 - accuracy: 0.9631\n",
      "Epoch 49/50\n",
      "1875/1875 [==============================] - 1s 719us/step - loss: 0.1000 - accuracy: 0.9624\n",
      "Epoch 50/50\n",
      "1875/1875 [==============================] - 1s 724us/step - loss: 0.0971 - accuracy: 0.9641\n",
      "--- 68.67562747001648 seconds ---\n"
     ]
    }
   ],
   "source": [
    "model = tf.keras.Sequential([\n",
    "    tf.keras.layers.Flatten(input_shape=(28, 28)),\n",
    "    tf.keras.layers.Dense(128, activation='relu'),\n",
    "    tf.keras.layers.Dense(10)\n",
    "])\n",
    "\n",
    "model.compile(optimizer='adam',\n",
    "              loss=tf.keras.losses.SparseCategoricalCrossentropy(from_logits=True),\n",
    "              metrics=['accuracy'])\n",
    "\n",
    "start_time = time.time()\n",
    "\n",
    "model.fit(train_images, train_labels, epochs=50)\n",
    "\n",
    "print(\"--- %s seconds ---\" % (time.time() - start_time))"
   ]
  },
  {
   "cell_type": "code",
   "execution_count": 12,
   "id": "a1992d84",
   "metadata": {},
   "outputs": [
    {
     "name": "stdout",
     "output_type": "stream",
     "text": [
      "313/313 - 0s - loss: 0.5270 - accuracy: 0.8883 - 192ms/epoch - 613us/step\n",
      "313/313 [==============================] - 0s 432us/step\n",
      "\n",
      "Test accuracy: 0.8883000016212463\n",
      "\n",
      "Test F1 (weighted): 0.8881484215539828\n"
     ]
    }
   ],
   "source": [
    "from sklearn.metrics import f1_score\n",
    "\n",
    "test_loss, test_acc = model.evaluate(test_images,  test_labels, verbose=2)\n",
    "f1 = f1_score(test_labels, [np.argmax(a) for a in model.predict(test_images)], average='weighted')\n",
    "\n",
    "print('\\nTest accuracy:', test_acc)\n",
    "print('\\nTest F1 (weighted):', f1)"
   ]
  },
  {
   "cell_type": "markdown",
   "id": "beaa45fc",
   "metadata": {},
   "source": [
    "Modified Feedforward Classifier:"
   ]
  },
  {
   "cell_type": "code",
   "execution_count": 7,
   "id": "0dbf500e",
   "metadata": {
    "scrolled": true
   },
   "outputs": [
    {
     "name": "stdout",
     "output_type": "stream",
     "text": [
      "Epoch 1/50\n",
      "1875/1875 [==============================] - 1s 461us/step - loss: 0.5949 - accuracy: 0.7967\n",
      "Epoch 2/50\n",
      "1875/1875 [==============================] - 1s 455us/step - loss: 0.4400 - accuracy: 0.8469\n",
      "Epoch 3/50\n",
      "1875/1875 [==============================] - 1s 441us/step - loss: 0.4126 - accuracy: 0.8562\n",
      "Epoch 4/50\n",
      "1875/1875 [==============================] - 1s 436us/step - loss: 0.3955 - accuracy: 0.8618\n",
      "Epoch 5/50\n",
      "1875/1875 [==============================] - 1s 434us/step - loss: 0.3868 - accuracy: 0.8635\n",
      "Epoch 6/50\n",
      "1875/1875 [==============================] - 1s 446us/step - loss: 0.3767 - accuracy: 0.8671\n",
      "Epoch 7/50\n",
      "1875/1875 [==============================] - 1s 428us/step - loss: 0.3705 - accuracy: 0.8692\n",
      "Epoch 8/50\n",
      "1875/1875 [==============================] - 1s 434us/step - loss: 0.3627 - accuracy: 0.8719\n",
      "Epoch 9/50\n",
      "1875/1875 [==============================] - 1s 436us/step - loss: 0.3593 - accuracy: 0.8724\n",
      "Epoch 10/50\n",
      "1875/1875 [==============================] - 1s 436us/step - loss: 0.3541 - accuracy: 0.8734\n",
      "Epoch 11/50\n",
      "1875/1875 [==============================] - 1s 436us/step - loss: 0.3472 - accuracy: 0.8751\n",
      "Epoch 12/50\n",
      "1875/1875 [==============================] - 1s 433us/step - loss: 0.3418 - accuracy: 0.8768\n",
      "Epoch 13/50\n",
      "1875/1875 [==============================] - 1s 438us/step - loss: 0.3376 - accuracy: 0.8778\n",
      "Epoch 14/50\n",
      "1875/1875 [==============================] - 1s 441us/step - loss: 0.3319 - accuracy: 0.8805\n",
      "Epoch 15/50\n",
      "1875/1875 [==============================] - 1s 438us/step - loss: 0.3281 - accuracy: 0.8790\n",
      "Epoch 16/50\n",
      "1875/1875 [==============================] - 1s 441us/step - loss: 0.3237 - accuracy: 0.8821\n",
      "Epoch 17/50\n",
      "1875/1875 [==============================] - 1s 441us/step - loss: 0.3198 - accuracy: 0.8836\n",
      "Epoch 18/50\n",
      "1875/1875 [==============================] - 1s 456us/step - loss: 0.3175 - accuracy: 0.8838\n",
      "Epoch 19/50\n",
      "1875/1875 [==============================] - 1s 487us/step - loss: 0.3138 - accuracy: 0.8860\n",
      "Epoch 20/50\n",
      "1875/1875 [==============================] - 1s 456us/step - loss: 0.3111 - accuracy: 0.8870\n",
      "Epoch 21/50\n",
      "1875/1875 [==============================] - 1s 449us/step - loss: 0.3090 - accuracy: 0.8870\n",
      "Epoch 22/50\n",
      "1875/1875 [==============================] - 1s 458us/step - loss: 0.3050 - accuracy: 0.8883\n",
      "Epoch 23/50\n",
      "1875/1875 [==============================] - 1s 443us/step - loss: 0.3044 - accuracy: 0.8882\n",
      "Epoch 24/50\n",
      "1875/1875 [==============================] - 1s 442us/step - loss: 0.3031 - accuracy: 0.8888\n",
      "Epoch 25/50\n",
      "1875/1875 [==============================] - 1s 445us/step - loss: 0.3007 - accuracy: 0.8878\n",
      "Epoch 26/50\n",
      "1875/1875 [==============================] - 1s 443us/step - loss: 0.2999 - accuracy: 0.8892\n",
      "Epoch 27/50\n",
      "1875/1875 [==============================] - 1s 443us/step - loss: 0.2978 - accuracy: 0.8912\n",
      "Epoch 28/50\n",
      "1875/1875 [==============================] - 1s 443us/step - loss: 0.2955 - accuracy: 0.8906\n",
      "Epoch 29/50\n",
      "1875/1875 [==============================] - 1s 440us/step - loss: 0.2942 - accuracy: 0.8921\n",
      "Epoch 30/50\n",
      "1875/1875 [==============================] - 1s 443us/step - loss: 0.2913 - accuracy: 0.8938\n",
      "Epoch 31/50\n",
      "1875/1875 [==============================] - 1s 456us/step - loss: 0.2912 - accuracy: 0.8920\n",
      "Epoch 32/50\n",
      "1875/1875 [==============================] - 1s 461us/step - loss: 0.2910 - accuracy: 0.8925\n",
      "Epoch 33/50\n",
      "1875/1875 [==============================] - 1s 450us/step - loss: 0.2880 - accuracy: 0.8945\n",
      "Epoch 34/50\n",
      "1875/1875 [==============================] - 1s 447us/step - loss: 0.2879 - accuracy: 0.8948\n",
      "Epoch 35/50\n",
      "1875/1875 [==============================] - 1s 467us/step - loss: 0.2867 - accuracy: 0.8938\n",
      "Epoch 36/50\n",
      "1875/1875 [==============================] - 1s 446us/step - loss: 0.2844 - accuracy: 0.8951\n",
      "Epoch 37/50\n",
      "1875/1875 [==============================] - 1s 453us/step - loss: 0.2837 - accuracy: 0.8956\n",
      "Epoch 38/50\n",
      "1875/1875 [==============================] - 1s 511us/step - loss: 0.2826 - accuracy: 0.8970\n",
      "Epoch 39/50\n",
      "1875/1875 [==============================] - 1s 456us/step - loss: 0.2822 - accuracy: 0.8964\n",
      "Epoch 40/50\n",
      "1875/1875 [==============================] - 1s 443us/step - loss: 0.2791 - accuracy: 0.8985\n",
      "Epoch 41/50\n",
      "1875/1875 [==============================] - 1s 441us/step - loss: 0.2793 - accuracy: 0.8973\n",
      "Epoch 42/50\n",
      "1875/1875 [==============================] - 1s 445us/step - loss: 0.2790 - accuracy: 0.8969\n",
      "Epoch 43/50\n",
      "1875/1875 [==============================] - 1s 438us/step - loss: 0.2778 - accuracy: 0.8974\n",
      "Epoch 44/50\n",
      "1875/1875 [==============================] - 1s 436us/step - loss: 0.2781 - accuracy: 0.8972\n",
      "Epoch 45/50\n",
      "1875/1875 [==============================] - 1s 430us/step - loss: 0.2762 - accuracy: 0.8985\n",
      "Epoch 46/50\n",
      "1875/1875 [==============================] - 1s 444us/step - loss: 0.2753 - accuracy: 0.8982\n",
      "Epoch 47/50\n",
      "1875/1875 [==============================] - 1s 441us/step - loss: 0.2731 - accuracy: 0.8995\n",
      "Epoch 48/50\n",
      "1875/1875 [==============================] - 1s 453us/step - loss: 0.2737 - accuracy: 0.8992\n",
      "Epoch 49/50\n",
      "1875/1875 [==============================] - 1s 443us/step - loss: 0.2728 - accuracy: 0.8991\n",
      "Epoch 50/50\n",
      "1875/1875 [==============================] - 1s 451us/step - loss: 0.2729 - accuracy: 0.8999\n",
      "--- 42.30733823776245 seconds ---\n"
     ]
    }
   ],
   "source": [
    "ID = 15\n",
    "\n",
    "model = tf.keras.Sequential([\n",
    "    tf.keras.layers.Flatten(input_shape=(28, 28)),\n",
    "    #tf.keras.layers.Dense(380, activation=\"relu\"),\n",
    "    #tf.keras.layers.Dense(128, activation=\"relu\"),\n",
    "    tf.keras.layers.Dense(ID, activation=\"relu\"),\n",
    "    tf.keras.layers.Dense(10)\n",
    "])\n",
    "\n",
    "model.compile(optimizer='adam',\n",
    "              loss=tf.keras.losses.SparseCategoricalCrossentropy(from_logits=True),\n",
    "              metrics=['accuracy'])\n",
    "\n",
    "start_time = time.time()\n",
    "\n",
    "model.fit(train_images, train_labels, epochs=50)\n",
    "\n",
    "print(\"--- %s seconds ---\" % (time.time() - start_time))"
   ]
  },
  {
   "cell_type": "code",
   "execution_count": 10,
   "id": "7234f5de",
   "metadata": {},
   "outputs": [
    {
     "name": "stdout",
     "output_type": "stream",
     "text": [
      "313/313 - 0s - loss: 0.4177 - accuracy: 0.8643 - 116ms/epoch - 372us/step\n",
      "313/313 [==============================] - 0s 317us/step\n",
      "\n",
      "Test accuracy: 0.864300012588501\n",
      "\n",
      "Test F1 (weighted): 0.8635236890292687\n"
     ]
    }
   ],
   "source": [
    "test_loss, test_acc = model.evaluate(test_images,  test_labels, verbose=2)\n",
    "f1 = f1_score(test_labels, [np.argmax(a) for a in model.predict(test_images)], average='weighted')\n",
    "\n",
    "print('\\nTest accuracy:', test_acc)\n",
    "print('\\nTest F1 (weighted):', f1)"
   ]
  },
  {
   "cell_type": "code",
   "execution_count": null,
   "id": "7c53437e",
   "metadata": {},
   "outputs": [],
   "source": []
  }
 ],
 "metadata": {
  "kernelspec": {
   "display_name": "Python 3 (ipykernel)",
   "language": "python",
   "name": "python3"
  },
  "language_info": {
   "codemirror_mode": {
    "name": "ipython",
    "version": 3
   },
   "file_extension": ".py",
   "mimetype": "text/x-python",
   "name": "python",
   "nbconvert_exporter": "python",
   "pygments_lexer": "ipython3",
   "version": "3.11.4"
  }
 },
 "nbformat": 4,
 "nbformat_minor": 5
}
