{
 "cells": [
  {
   "cell_type": "code",
   "execution_count": 6,
   "id": "91bc35b7",
   "metadata": {},
   "outputs": [],
   "source": [
    "import skdim\n",
    "import numpy as np\n",
    "import pandas as pd\n",
    "import math"
   ]
  },
  {
   "cell_type": "code",
   "execution_count": 44,
   "id": "1d020b28",
   "metadata": {},
   "outputs": [],
   "source": [
    "benchmark = skdim.datasets.BenchmarkManifolds(random_state=0)\n",
    "dict_data = benchmark.generate()\n",
    "data = dict_data['Mn1_Nonlinear'] #ID = 18"
   ]
  },
  {
   "cell_type": "code",
   "execution_count": 45,
   "id": "8111ac4b",
   "metadata": {},
   "outputs": [
    {
     "data": {
      "text/plain": [
       "(2500, 72)"
      ]
     },
     "execution_count": 45,
     "metadata": {},
     "output_type": "execute_result"
    }
   ],
   "source": [
    "data.shape"
   ]
  },
  {
   "cell_type": "code",
   "execution_count": 46,
   "id": "2d4d86d9",
   "metadata": {},
   "outputs": [
    {
     "data": {
      "text/plain": [
       "50"
      ]
     },
     "execution_count": 46,
     "metadata": {},
     "output_type": "execute_result"
    }
   ],
   "source": [
    "n_neighbors = round(math.sqrt(data.shape[0]))\n",
    "n_neighbors"
   ]
  },
  {
   "cell_type": "markdown",
   "id": "0ff9fa2f",
   "metadata": {},
   "source": [
    "### Isomap Example: MNIST Digits ###"
   ]
  },
  {
   "cell_type": "code",
   "execution_count": 37,
   "id": "8036d023",
   "metadata": {},
   "outputs": [],
   "source": [
    "from sklearn.datasets import load_digits\n",
    "from sklearn.manifold import Isomap\n",
    "X = data"
   ]
  },
  {
   "cell_type": "code",
   "execution_count": 49,
   "id": "a4cb5c92",
   "metadata": {},
   "outputs": [
    {
     "name": "stdout",
     "output_type": "stream",
     "text": [
      "5 1.7116099994755882\n",
      "10 1.0925120864638935\n",
      "18 0.8529237033329291\n",
      "30 0.7294567928357607\n",
      "50 0.6321222756745819\n"
     ]
    }
   ],
   "source": [
    "for i in [5, 10, 18, 30, 50]:\n",
    "    embedding = Isomap(n_components=5, n_neighbors=i, n_jobs=-1)\n",
    "    X_transformed = embedding.fit_transform(X)\n",
    "    X_transformed.shape\n",
    "    print(i, embedding.reconstruction_error())"
   ]
  }
 ],
 "metadata": {
  "kernelspec": {
   "display_name": "Python 3 (ipykernel)",
   "language": "python",
   "name": "python3"
  },
  "language_info": {
   "codemirror_mode": {
    "name": "ipython",
    "version": 3
   },
   "file_extension": ".py",
   "mimetype": "text/x-python",
   "name": "python",
   "nbconvert_exporter": "python",
   "pygments_lexer": "ipython3",
   "version": "3.9.17"
  }
 },
 "nbformat": 4,
 "nbformat_minor": 5
}
