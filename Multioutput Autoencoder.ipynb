{
 "cells": [
  {
   "cell_type": "code",
   "execution_count": 1,
   "id": "d4a32734-52e3-479e-8d5e-67a80cddc8b3",
   "metadata": {},
   "outputs": [],
   "source": [
    "import tensorflow as tf\n",
    "from IPython.display import clear_output\n",
    "tf.keras.utils.set_random_seed(42)"
   ]
  },
  {
   "cell_type": "markdown",
   "id": "7335eb48",
   "metadata": {},
   "source": [
    "### Port fashion mnist dataset with (un)known intrinsic dimension:"
   ]
  },
  {
   "cell_type": "code",
   "execution_count": 2,
   "id": "1ea41162",
   "metadata": {},
   "outputs": [],
   "source": [
    "fashion_mnist = tf.keras.datasets.fashion_mnist\n",
    "(train_images, train_labels), (test_images, test_labels) = fashion_mnist.load_data()\n",
    "\n",
    "train_images = train_images / 255.0\n",
    "\n",
    "test_images = test_images / 255.0"
   ]
  },
  {
   "cell_type": "code",
   "execution_count": 3,
   "id": "14ae3ce4",
   "metadata": {},
   "outputs": [],
   "source": [
    "data = train_images\n",
    "data = data.reshape((len(data), -1))"
   ]
  },
  {
   "cell_type": "markdown",
   "id": "48f451cb",
   "metadata": {},
   "source": [
    "### Investigate loss on different types of autoencoders (and mixes of IDs)"
   ]
  },
  {
   "cell_type": "code",
   "execution_count": 4,
   "id": "9ce15b99",
   "metadata": {},
   "outputs": [],
   "source": [
    "X_train = train_images\n",
    "X_valid = test_images"
   ]
  },
  {
   "cell_type": "code",
   "execution_count": 5,
   "id": "89ab3d65",
   "metadata": {},
   "outputs": [],
   "source": [
    "def coefficient(low, id, high):\n",
    "    return (high-id)/(high-low)"
   ]
  },
  {
   "cell_type": "code",
   "execution_count": 6,
   "id": "3ba7bb18",
   "metadata": {
    "scrolled": true
   },
   "outputs": [
    {
     "name": "stdout",
     "output_type": "stream",
     "text": [
      "Result of 5: 0.0334358811378479\n",
      "\n",
      "Result of 12: 0.023712586611509323\n",
      "\n",
      "Result of 19: 0.01936451904475689\n",
      "\n",
      "Coefficient: 0.3090011853854091\n",
      "\n",
      "Elbow Calculation: 13.031104132496028\n",
      "\n"
     ]
    }
   ],
   "source": [
    "ID = 12\n",
    "radius = 7\n",
    "\n",
    "input = tf.keras.layers.Input(shape=(28,28))\n",
    "\n",
    "flatten = tf.keras.layers.Flatten(input_shape=(28, 28))(input)\n",
    "\n",
    "latent_minus = tf.keras.layers.Dense(max(ID-radius, 1), activation=\"relu\")(flatten)\n",
    "latent_id = tf.keras.layers.Dense(ID, activation=\"relu\")(flatten)\n",
    "latent_plus = tf.keras.layers.Dense(ID+radius, activation=\"relu\")(flatten)\n",
    "\n",
    "hidden_minus = tf.keras.layers.Dense(28 * 28)(latent_minus)\n",
    "hidden_id = tf.keras.layers.Dense(28 * 28)(latent_id)\n",
    "hidden_plus = tf.keras.layers.Dense(28 * 28)(latent_plus)\n",
    "\n",
    "output_minus = tf.keras.layers.Reshape([28, 28])(hidden_minus)\n",
    "output_id = tf.keras.layers.Reshape([28, 28])(hidden_id)\n",
    "output_plus = tf.keras.layers.Reshape([28, 28])(hidden_plus)\n",
    "\n",
    "model = tf.keras.Model(inputs=[input],\n",
    "                       outputs=[output_minus, output_id, output_plus])\n",
    "\n",
    "model.compile(loss=\"mse\", optimizer=\"nadam\",\n",
    "              metrics=[\"RootMeanSquaredError\"])\n",
    "history = model.fit(X_train, X_train, epochs=10,\n",
    "                         validation_data=(X_valid, X_valid))\n",
    "\n",
    "results = []\n",
    "\n",
    "for i in history.history:\n",
    "    results.append((i, history.history[i][-1]))\n",
    "\n",
    "# 'ID - radius' validation loss\n",
    "(ID-radius), results[8][1]\n",
    "\n",
    "clear_output(wait=True)\n",
    "\n",
    "print(\"Result of {}: {}\\n\".format(max(ID-radius, 1),results[8][1]))\n",
    "print(\"Result of {}: {}\\n\".format(ID,results[9][1]))\n",
    "print(\"Result of {}: {}\\n\".format(ID+radius,results[10][1]))\n",
    "\n",
    "c = coefficient(results[8][1], results[9][1], results[10][1])\n",
    "\n",
    "print(\"Coefficient: {}\\n\".format(c))\n",
    "print(\"Elbow Calculation: {}\\n\".format(c/results[9][1]))"
   ]
  }
 ],
 "metadata": {
  "kernelspec": {
   "display_name": "Python 3 (ipykernel)",
   "language": "python",
   "name": "python3"
  },
  "language_info": {
   "codemirror_mode": {
    "name": "ipython",
    "version": 3
   },
   "file_extension": ".py",
   "mimetype": "text/x-python",
   "name": "python",
   "nbconvert_exporter": "python",
   "pygments_lexer": "ipython3",
   "version": "3.9.17"
  }
 },
 "nbformat": 4,
 "nbformat_minor": 5
}
