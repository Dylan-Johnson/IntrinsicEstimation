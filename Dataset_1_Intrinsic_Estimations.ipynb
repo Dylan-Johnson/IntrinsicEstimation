{
 "cells": [
  {
   "cell_type": "code",
   "execution_count": 1,
   "id": "205df310",
   "metadata": {},
   "outputs": [],
   "source": [
    "import tensorflow as tf\n",
    "from IPython.display import clear_output\n",
    "tf.keras.utils.set_random_seed(42)\n",
    "import skdim\n",
    "import time\n",
    "import numpy as np\n",
    "import pickle\n",
    "import pandas as pd"
   ]
  },
  {
   "cell_type": "markdown",
   "id": "9149176e",
   "metadata": {},
   "source": [
    "### Import data and obtain the number of labels:"
   ]
  },
  {
   "cell_type": "code",
   "execution_count": 2,
   "id": "c8ff270a",
   "metadata": {},
   "outputs": [],
   "source": [
    "filename = 'data/dataset1.pkl'\n",
    "\n",
    "with open(filename, 'rb') as f:\n",
    "    data_tuples = pickle.load(f)\n",
    "f.close()"
   ]
  },
  {
   "cell_type": "code",
   "execution_count": 3,
   "id": "1af4aa56",
   "metadata": {},
   "outputs": [
    {
     "name": "stdout",
     "output_type": "stream",
     "text": [
      "Number of Data Points: 1000\n",
      "Class Labels: 2\n",
      "Feature Count: 200\n"
     ]
    }
   ],
   "source": [
    "print('Number of Data Points:', len(data_tuples))\n",
    "class_labels = []\n",
    "for i in range(len(data_tuples)):\n",
    "    class_labels.append(data_tuples[i][1])\n",
    "\n",
    "print('Class Labels:', len(set(class_labels)))\n",
    "print('Feature Count:', len(data_tuples[0][0]))"
   ]
  },
  {
   "cell_type": "code",
   "execution_count": 4,
   "id": "3125c0d0",
   "metadata": {},
   "outputs": [],
   "source": [
    "data = pd.DataFrame([i[0] for i in data_tuples])\n",
    "data = (data - np.min(data)) / (np.max(data) - np.min(data))"
   ]
  },
  {
   "cell_type": "markdown",
   "id": "ac9a04b1",
   "metadata": {},
   "source": [
    "### Perform Estimation(s)"
   ]
  },
  {
   "cell_type": "code",
   "execution_count": 5,
   "id": "aca65f06",
   "metadata": {},
   "outputs": [
    {
     "name": "stdout",
     "output_type": "stream",
     "text": [
      "PCA FO 132\n",
      "PCA Fan 79\n",
      "PCA maxgap 132\n",
      "PCA ratio 2\n",
      "PCA participation_ratio 97.55364888782775\n",
      "PCA Kaiser 99\n",
      "PCA broken_stick 2\n",
      "CorrInt 32.823726962564436\n",
      "DANCo 167.99564473175613\n",
      "ESS 123.11232864794208\n",
      "FisherS nan\n",
      "KNN 21\n",
      "MADA 43.10570474305857\n",
      "MiND_ML 10.0\n",
      "MLE 42.53064371067954\n",
      "MOM 34.445209671826916\n",
      "TLE 38.545575927556676\n",
      "TwoNN 55.00943825384689\n"
     ]
    }
   ],
   "source": [
    "# fit() values\n",
    "\n",
    "for s in ['FO', 'Fan', 'maxgap', 'ratio', 'participation_ratio', 'Kaiser', 'broken_stick']:\n",
    "    est = skdim.id.lPCA(ver=s).fit(data)\n",
    "    print(\"PCA {}\".format(s), est.dimension_)\n",
    "\n",
    "est = skdim.id.CorrInt().fit(data)\n",
    "print(\"CorrInt\", est.dimension_)\n",
    "\n",
    "est = skdim.id.DANCo().fit(data)\n",
    "print(\"DANCo\", est.dimension_)\n",
    "\n",
    "est = skdim.id.ESS().fit(data)\n",
    "print(\"ESS\", est.dimension_)\n",
    "\n",
    "est = skdim.id.FisherS().fit(data)\n",
    "print(\"FisherS\", est.dimension_)\n",
    "\n",
    "est = skdim.id.KNN().fit(data)\n",
    "print(\"KNN\", est.dimension_)\n",
    "\n",
    "est = skdim.id.MADA().fit(data)\n",
    "print(\"MADA\", est.dimension_)\n",
    "\n",
    "est = skdim.id.MiND_ML().fit(data)\n",
    "print(\"MiND_ML\", est.dimension_)\n",
    "\n",
    "est = skdim.id.MLE().fit(data)\n",
    "print(\"MLE\", est.dimension_)\n",
    "\n",
    "est = skdim.id.MOM().fit(data)\n",
    "print(\"MOM\", est.dimension_)\n",
    "\n",
    "est = skdim.id.TLE().fit(data)\n",
    "print(\"TLE\", est.dimension_)\n",
    "\n",
    "est = skdim.id.TwoNN().fit(data)\n",
    "print(\"TwoNN\", est.dimension_)"
   ]
  },
  {
   "cell_type": "code",
   "execution_count": 7,
   "id": "6f9aae29",
   "metadata": {},
   "outputs": [
    {
     "name": "stdout",
     "output_type": "stream",
     "text": [
      "FisherS nan\n",
      "KNN 55.388\n",
      "MiND_ML 10.0\n",
      "TwoNN 44.55634198989536\n"
     ]
    }
   ],
   "source": [
    "# fit_pw(data, n_neighbors=100, n_jobs=-1)\n",
    "\n",
    "# for s in ['FO', 'Fan', 'maxgap', 'ratio', 'participation_ratio', 'Kaiser', 'broken_stick']:\n",
    "#     est = skdim.id.lPCA(ver=s).fit_pw(data, n_neighbors=100, n_jobs=-1)\n",
    "#     print(\"PCA {}\".format(s), np.mean(est.dimension_pw_))\n",
    "    \n",
    "# est = skdim.id.CorrInt().fit_pw(data, n_neighbors=100, n_jobs=-1)\n",
    "# print(\"CorrInt\", np.mean(est.dimension_pw_))\n",
    "\n",
    "# est = skdim.id.DANCo().fit_pw(data, n_neighbors=100, n_jobs=-1)\n",
    "# print(\"DANCo\", np.mean(est.dimension_pw_))\n",
    "\n",
    "est = skdim.id.FisherS().fit_pw(data, n_neighbors=100, n_jobs=-1)\n",
    "print(\"FisherS\", np.mean(est.dimension_pw_))\n",
    "\n",
    "est = skdim.id.KNN().fit_pw(data, n_neighbors=100, n_jobs=-1)\n",
    "print(\"KNN\", np.mean(est.dimension_pw_))\n",
    "\n",
    "est = skdim.id.MiND_ML().fit_pw(data, n_neighbors=100, n_jobs=-1)\n",
    "print(\"MiND_ML\", np.mean(est.dimension_pw_))\n",
    "\n",
    "est = skdim.id.TwoNN().fit_pw(data, n_neighbors=100, n_jobs=-1)\n",
    "print(\"TwoNN\", np.mean(est.dimension_pw_))"
   ]
  },
  {
   "cell_type": "code",
   "execution_count": null,
   "id": "b5b27e20",
   "metadata": {},
   "outputs": [],
   "source": []
  }
 ],
 "metadata": {
  "kernelspec": {
   "display_name": "Python 3 (ipykernel)",
   "language": "python",
   "name": "python3"
  },
  "language_info": {
   "codemirror_mode": {
    "name": "ipython",
    "version": 3
   },
   "file_extension": ".py",
   "mimetype": "text/x-python",
   "name": "python",
   "nbconvert_exporter": "python",
   "pygments_lexer": "ipython3",
   "version": "3.9.17"
  }
 },
 "nbformat": 4,
 "nbformat_minor": 5
}
