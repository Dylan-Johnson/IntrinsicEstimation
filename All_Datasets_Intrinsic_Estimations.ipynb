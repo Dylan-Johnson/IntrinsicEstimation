{
 "cells": [
  {
   "cell_type": "code",
   "execution_count": 8,
   "id": "205df310",
   "metadata": {},
   "outputs": [],
   "source": [
    "import tensorflow as tf\n",
    "from IPython.display import clear_output\n",
    "tf.keras.utils.set_random_seed(42)\n",
    "import skdim\n",
    "import time\n",
    "import numpy as np\n",
    "import pickle\n",
    "import pandas as pd"
   ]
  },
  {
   "cell_type": "markdown",
   "id": "9149176e",
   "metadata": {},
   "source": [
    "\n",
    "### Import data and obtain the number of labels:"
   ]
  },
  {
   "cell_type": "code",
   "execution_count": 57,
   "id": "c8ff270a",
   "metadata": {},
   "outputs": [],
   "source": [
    "filename = 'data/dataset6.pkl'\n",
    "\n",
    "with open(filename, 'rb') as f:\n",
    "    data_tuples = pickle.load(f)\n",
    "f.close()"
   ]
  },
  {
   "cell_type": "code",
   "execution_count": 58,
   "id": "1af4aa56",
   "metadata": {},
   "outputs": [
    {
     "name": "stdout",
     "output_type": "stream",
     "text": [
      "Number of Data Points: 3000\n",
      "Class Labels: 2\n",
      "Feature Count: 28\n"
     ]
    }
   ],
   "source": [
    "print('Number of Data Points:', len(data_tuples))\n",
    "class_labels = []\n",
    "for i in range(len(data_tuples)):\n",
    "    class_labels.append(data_tuples[i][1])\n",
    "\n",
    "print('Class Labels:', len(set(class_labels)))\n",
    "print('Feature Count:', len(data_tuples[0][0]))"
   ]
  },
  {
   "cell_type": "code",
   "execution_count": 59,
   "id": "3125c0d0",
   "metadata": {},
   "outputs": [],
   "source": [
    "data = pd.DataFrame([i[0] for i in data_tuples])\n",
    "data = (data - np.min(data)) / (np.max(data) - np.min(data))\n",
    "labels = pd.DataFrame([i[1] for i in data_tuples])"
   ]
  },
  {
   "cell_type": "code",
   "execution_count": 60,
   "id": "c88a71a4",
   "metadata": {},
   "outputs": [],
   "source": [
    "neighbor_count = 150"
   ]
  },
  {
   "cell_type": "markdown",
   "id": "ac9a04b1",
   "metadata": {},
   "source": [
    "### Perform Estimation(s)"
   ]
  },
  {
   "cell_type": "code",
   "execution_count": 61,
   "id": "aca65f06",
   "metadata": {
    "scrolled": true
   },
   "outputs": [
    {
     "name": "stdout",
     "output_type": "stream",
     "text": [
      "PCA FO 20\n",
      "PCA Fan 10\n",
      "PCA maxgap 20\n",
      "PCA ratio 1\n",
      "PCA participation_ratio 14.522679330961648\n",
      "PCA Kaiser 11\n",
      "PCA broken_stick 1\n",
      "CorrInt 5.404631104343507\n",
      "DANCo 10.943091748823164\n",
      "ESS 14.280929505227324\n",
      "FisherS 13.337338446223308\n",
      "KNN 2\n",
      "MADA 11.250680860571737\n",
      "MiND_ML 10.0\n",
      "MLE 10.976296037705103\n",
      "MOM 11.588721113204675\n",
      "TLE 8.220299023534663\n",
      "TwoNN 12.097252644210192\n"
     ]
    }
   ],
   "source": [
    "# fit() values\n",
    "\n",
    "for s in ['FO', 'Fan', 'maxgap', 'ratio', 'participation_ratio', 'Kaiser', 'broken_stick']:\n",
    "    est = skdim.id.lPCA(ver=s).fit(data)\n",
    "    print(\"PCA {}\".format(s), est.dimension_)\n",
    "\n",
    "est = skdim.id.CorrInt().fit(data)\n",
    "print(\"CorrInt\", est.dimension_)\n",
    "\n",
    "est = skdim.id.DANCo().fit(data)\n",
    "print(\"DANCo\", est.dimension_)\n",
    "\n",
    "est = skdim.id.ESS().fit(data, n_neighbors=neighbor_count)\n",
    "print(\"ESS\", est.dimension_)\n",
    "\n",
    "est = skdim.id.FisherS().fit(data)\n",
    "print(\"FisherS\", est.dimension_)\n",
    "\n",
    "est = skdim.id.KNN().fit(data)\n",
    "print(\"KNN\", est.dimension_)\n",
    "\n",
    "est = skdim.id.MADA().fit(data, n_neighbors=neighbor_count)\n",
    "print(\"MADA\", est.dimension_)\n",
    "\n",
    "est = skdim.id.MiND_ML().fit(data)\n",
    "print(\"MiND_ML\", est.dimension_)\n",
    "\n",
    "est = skdim.id.MLE().fit(data, n_neighbors=neighbor_count)\n",
    "print(\"MLE\", est.dimension_)\n",
    "\n",
    "est = skdim.id.MOM().fit(data, n_neighbors=neighbor_count)\n",
    "print(\"MOM\", est.dimension_)\n",
    "\n",
    "est = skdim.id.TLE().fit(data, n_neighbors=neighbor_count)\n",
    "print(\"TLE\", est.dimension_)\n",
    "\n",
    "est = skdim.id.TwoNN().fit(data)\n",
    "print(\"TwoNN\", est.dimension_)"
   ]
  },
  {
   "cell_type": "code",
   "execution_count": null,
   "id": "6f9aae29",
   "metadata": {},
   "outputs": [
    {
     "name": "stdout",
     "output_type": "stream",
     "text": [
      "PCA FO 19.297\n",
      "PCA Fan 9.113333333333333\n",
      "PCA maxgap 20.0\n",
      "PCA ratio 1.0\n",
      "PCA participation_ratio 12.624904241935393\n",
      "PCA Kaiser 10.538\n",
      "PCA broken_stick 6.629333333333333\n"
     ]
    }
   ],
   "source": [
    "# fit_pw(data, n_neighbors=neighbor_count, n_jobs=-1)\n",
    "\n",
    "for s in ['FO', 'Fan', 'maxgap', 'ratio', 'participation_ratio', 'Kaiser', 'broken_stick']:\n",
    "    est = skdim.id.lPCA(ver=s).fit_pw(data, n_neighbors=neighbor_count, n_jobs=-1)\n",
    "    print(\"PCA {}\".format(s), np.mean(est.dimension_pw_))\n",
    "    \n",
    "est = skdim.id.CorrInt().fit_pw(data, n_neighbors=neighbor_count, n_jobs=-1)\n",
    "print(\"CorrInt\", np.mean(est.dimension_pw_))\n",
    "\n",
    "est = skdim.id.FisherS().fit_pw(data, n_neighbors=neighbor_count, n_jobs=-1)\n",
    "print(\"FisherS\", np.mean(est.dimension_pw_))\n",
    "\n",
    "est = skdim.id.KNN().fit_pw(data, n_neighbors=neighbor_count, n_jobs=-1)\n",
    "print(\"KNN\", np.mean(est.dimension_pw_))\n",
    "\n",
    "est = skdim.id.MiND_ML().fit_pw(data, n_neighbors=neighbor_count, n_jobs=-1)\n",
    "print(\"MiND_ML\", np.mean(est.dimension_pw_))\n",
    "\n",
    "est = skdim.id.TwoNN().fit_pw(data, n_neighbors=neighbor_count, n_jobs=-1)\n",
    "print(\"TwoNN\", np.mean(est.dimension_pw_))"
   ]
  },
  {
   "cell_type": "markdown",
   "id": "f8e7e475",
   "metadata": {},
   "source": [
    "### Reduction Test ###"
   ]
  },
  {
   "cell_type": "code",
   "execution_count": 56,
   "id": "941c7364",
   "metadata": {},
   "outputs": [],
   "source": [
    "from sklearn.model_selection import train_test_split\n",
    "from sklearn.decomposition import PCA\n",
    "from sklearn.manifold import LocallyLinearEmbedding\n",
    "\n",
    "X_train, X_test, y_train, y_test = train_test_split(data, labels, test_size=0.2, random_state=42, stratify=labels)"
   ]
  },
  {
   "cell_type": "code",
   "execution_count": 57,
   "id": "bc502347",
   "metadata": {},
   "outputs": [
    {
     "name": "stdout",
     "output_type": "stream",
     "text": [
      "Dimension required for 95.0% variance explained: 70\n"
     ]
    }
   ],
   "source": [
    "# PCA Variance\n",
    "var = 0.95\n",
    "\n",
    "pca = PCA(n_components=var)\n",
    "X_reduced = pca.fit_transform(data)\n",
    "print(\"Dimension required for {}% variance explained: {}\".format(var*100, pca.n_components_))"
   ]
  },
  {
   "cell_type": "code",
   "execution_count": 69,
   "id": "10809b08",
   "metadata": {},
   "outputs": [
    {
     "data": {
      "text/plain": [
       "1.1862753443504776e-06"
      ]
     },
     "execution_count": 69,
     "metadata": {},
     "output_type": "execute_result"
    }
   ],
   "source": [
    "# Non-dimensional Reduction\n",
    "var = 0.95\n",
    "\n",
    "lle = LocallyLinearEmbedding(n_components=1, n_neighbors=75, random_state=42, n_jobs=-1)\n",
    "X_unrolled = lle.fit_transform(data)\n",
    "lle.reconstruction_error_"
   ]
  },
  {
   "cell_type": "code",
   "execution_count": null,
   "id": "72bc2055",
   "metadata": {},
   "outputs": [],
   "source": []
  }
 ],
 "metadata": {
  "kernelspec": {
   "display_name": "Python 3 (ipykernel)",
   "language": "python",
   "name": "python3"
  },
  "language_info": {
   "codemirror_mode": {
    "name": "ipython",
    "version": 3
   },
   "file_extension": ".py",
   "mimetype": "text/x-python",
   "name": "python",
   "nbconvert_exporter": "python",
   "pygments_lexer": "ipython3",
   "version": "3.9.17"
  }
 },
 "nbformat": 4,
 "nbformat_minor": 5
}
