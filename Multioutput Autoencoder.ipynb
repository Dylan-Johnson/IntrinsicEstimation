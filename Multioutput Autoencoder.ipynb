{
 "cells": [
  {
   "cell_type": "code",
   "execution_count": 1,
   "id": "d4a32734-52e3-479e-8d5e-67a80cddc8b3",
   "metadata": {},
   "outputs": [],
   "source": [
    "import tensorflow as tf\n",
    "tf.keras.utils.set_random_seed(42)"
   ]
  },
  {
   "cell_type": "markdown",
   "id": "7335eb48",
   "metadata": {},
   "source": [
    "### Port fashion mnist dataset with (un)known intrinsic dimension:"
   ]
  },
  {
   "cell_type": "code",
   "execution_count": 2,
   "id": "1ea41162",
   "metadata": {},
   "outputs": [],
   "source": [
    "fashion_mnist = tf.keras.datasets.fashion_mnist\n",
    "(train_images, train_labels), (test_images, test_labels) = fashion_mnist.load_data()\n",
    "\n",
    "train_images = train_images / 255.0\n",
    "\n",
    "test_images = test_images / 255.0"
   ]
  },
  {
   "cell_type": "code",
   "execution_count": 3,
   "id": "14ae3ce4",
   "metadata": {},
   "outputs": [],
   "source": [
    "data = train_images\n",
    "data = data.reshape((len(data), -1))"
   ]
  },
  {
   "cell_type": "markdown",
   "id": "48f451cb",
   "metadata": {},
   "source": [
    "### Investigate loss on different types of autoencoders (and mixes of IDs)"
   ]
  },
  {
   "cell_type": "code",
   "execution_count": 4,
   "id": "9ce15b99",
   "metadata": {},
   "outputs": [],
   "source": [
    "X_train = train_images\n",
    "X_valid = test_images"
   ]
  },
  {
   "cell_type": "code",
   "execution_count": 49,
   "id": "3ba7bb18",
   "metadata": {
    "scrolled": true
   },
   "outputs": [
    {
     "name": "stdout",
     "output_type": "stream",
     "text": [
      "Epoch 1/10\n",
      "1875/1875 [==============================] - 9s 4ms/step - loss: 0.0445 - reshape_16_loss: 0.0150 - reshape_17_loss: 0.0148 - reshape_18_loss: 0.0147 - reshape_16_root_mean_squared_error: 0.1223 - reshape_17_root_mean_squared_error: 0.1216 - reshape_18_root_mean_squared_error: 0.1214 - val_loss: 0.0252 - val_reshape_16_loss: 0.0085 - val_reshape_17_loss: 0.0084 - val_reshape_18_loss: 0.0083 - val_reshape_16_root_mean_squared_error: 0.0924 - val_reshape_17_root_mean_squared_error: 0.0915 - val_reshape_18_root_mean_squared_error: 0.0912\n",
      "Epoch 2/10\n",
      "1875/1875 [==============================] - 7s 4ms/step - loss: 0.0234 - reshape_16_loss: 0.0079 - reshape_17_loss: 0.0077 - reshape_18_loss: 0.0077 - reshape_16_root_mean_squared_error: 0.0891 - reshape_17_root_mean_squared_error: 0.0880 - reshape_18_root_mean_squared_error: 0.0879 - val_loss: 0.0216 - val_reshape_16_loss: 0.0073 - val_reshape_17_loss: 0.0071 - val_reshape_18_loss: 0.0071 - val_reshape_16_root_mean_squared_error: 0.0857 - val_reshape_17_root_mean_squared_error: 0.0844 - val_reshape_18_root_mean_squared_error: 0.0841\n",
      "Epoch 3/10\n",
      "1875/1875 [==============================] - 7s 4ms/step - loss: 0.0212 - reshape_16_loss: 0.0072 - reshape_17_loss: 0.0070 - reshape_18_loss: 0.0070 - reshape_16_root_mean_squared_error: 0.0850 - reshape_17_root_mean_squared_error: 0.0836 - reshape_18_root_mean_squared_error: 0.0838 - val_loss: 0.0203 - val_reshape_16_loss: 0.0069 - val_reshape_17_loss: 0.0067 - val_reshape_18_loss: 0.0067 - val_reshape_16_root_mean_squared_error: 0.0830 - val_reshape_17_root_mean_squared_error: 0.0816 - val_reshape_18_root_mean_squared_error: 0.0819\n",
      "Epoch 4/10\n",
      "1875/1875 [==============================] - 7s 4ms/step - loss: 0.0204 - reshape_16_loss: 0.0070 - reshape_17_loss: 0.0067 - reshape_18_loss: 0.0067 - reshape_16_root_mean_squared_error: 0.0835 - reshape_17_root_mean_squared_error: 0.0819 - reshape_18_root_mean_squared_error: 0.0821 - val_loss: 0.0194 - val_reshape_16_loss: 0.0066 - val_reshape_17_loss: 0.0064 - val_reshape_18_loss: 0.0064 - val_reshape_16_root_mean_squared_error: 0.0815 - val_reshape_17_root_mean_squared_error: 0.0800 - val_reshape_18_root_mean_squared_error: 0.0800\n",
      "Epoch 5/10\n",
      "1875/1875 [==============================] - 7s 4ms/step - loss: 0.0199 - reshape_16_loss: 0.0068 - reshape_17_loss: 0.0065 - reshape_18_loss: 0.0066 - reshape_16_root_mean_squared_error: 0.0824 - reshape_17_root_mean_squared_error: 0.0809 - reshape_18_root_mean_squared_error: 0.0810 - val_loss: 0.0200 - val_reshape_16_loss: 0.0068 - val_reshape_17_loss: 0.0065 - val_reshape_18_loss: 0.0068 - val_reshape_16_root_mean_squared_error: 0.0823 - val_reshape_17_root_mean_squared_error: 0.0805 - val_reshape_18_root_mean_squared_error: 0.0822\n",
      "Epoch 6/10\n",
      "1875/1875 [==============================] - 7s 4ms/step - loss: 0.0196 - reshape_16_loss: 0.0067 - reshape_17_loss: 0.0064 - reshape_18_loss: 0.0065 - reshape_16_root_mean_squared_error: 0.0816 - reshape_17_root_mean_squared_error: 0.0803 - reshape_18_root_mean_squared_error: 0.0805 - val_loss: 0.0189 - val_reshape_16_loss: 0.0065 - val_reshape_17_loss: 0.0062 - val_reshape_18_loss: 0.0063 - val_reshape_16_root_mean_squared_error: 0.0805 - val_reshape_17_root_mean_squared_error: 0.0788 - val_reshape_18_root_mean_squared_error: 0.0791\n",
      "Epoch 7/10\n",
      "1875/1875 [==============================] - 7s 4ms/step - loss: 0.0194 - reshape_16_loss: 0.0066 - reshape_17_loss: 0.0064 - reshape_18_loss: 0.0064 - reshape_16_root_mean_squared_error: 0.0812 - reshape_17_root_mean_squared_error: 0.0800 - reshape_18_root_mean_squared_error: 0.0803 - val_loss: 0.0202 - val_reshape_16_loss: 0.0067 - val_reshape_17_loss: 0.0067 - val_reshape_18_loss: 0.0068 - val_reshape_16_root_mean_squared_error: 0.0818 - val_reshape_17_root_mean_squared_error: 0.0820 - val_reshape_18_root_mean_squared_error: 0.0824\n",
      "Epoch 8/10\n",
      "1875/1875 [==============================] - 7s 4ms/step - loss: 0.0193 - reshape_16_loss: 0.0065 - reshape_17_loss: 0.0064 - reshape_18_loss: 0.0064 - reshape_16_root_mean_squared_error: 0.0807 - reshape_17_root_mean_squared_error: 0.0799 - reshape_18_root_mean_squared_error: 0.0801 - val_loss: 0.0187 - val_reshape_16_loss: 0.0063 - val_reshape_17_loss: 0.0062 - val_reshape_18_loss: 0.0062 - val_reshape_16_root_mean_squared_error: 0.0793 - val_reshape_17_root_mean_squared_error: 0.0789 - val_reshape_18_root_mean_squared_error: 0.0787\n",
      "Epoch 9/10\n",
      "1875/1875 [==============================] - 7s 4ms/step - loss: 0.0191 - reshape_16_loss: 0.0064 - reshape_17_loss: 0.0063 - reshape_18_loss: 0.0064 - reshape_16_root_mean_squared_error: 0.0801 - reshape_17_root_mean_squared_error: 0.0795 - reshape_18_root_mean_squared_error: 0.0798 - val_loss: 0.0184 - val_reshape_16_loss: 0.0062 - val_reshape_17_loss: 0.0061 - val_reshape_18_loss: 0.0061 - val_reshape_16_root_mean_squared_error: 0.0788 - val_reshape_17_root_mean_squared_error: 0.0782 - val_reshape_18_root_mean_squared_error: 0.0783\n",
      "Epoch 10/10\n",
      "1875/1875 [==============================] - 7s 4ms/step - loss: 0.0190 - reshape_16_loss: 0.0064 - reshape_17_loss: 0.0063 - reshape_18_loss: 0.0063 - reshape_16_root_mean_squared_error: 0.0799 - reshape_17_root_mean_squared_error: 0.0791 - reshape_18_root_mean_squared_error: 0.0796 - val_loss: 0.0185 - val_reshape_16_loss: 0.0062 - val_reshape_17_loss: 0.0061 - val_reshape_18_loss: 0.0062 - val_reshape_16_root_mean_squared_error: 0.0789 - val_reshape_17_root_mean_squared_error: 0.0782 - val_reshape_18_root_mean_squared_error: 0.0785\n"
     ]
    }
   ],
   "source": [
    "ID = 200\n",
    "radius = 10\n",
    "\n",
    "input = tf.keras.layers.Input(shape=(28,28))\n",
    "\n",
    "flatten = tf.keras.layers.Flatten(input_shape=(28, 28))(input)\n",
    "\n",
    "latent_minus = tf.keras.layers.Dense(ID-radius, activation=\"relu\")(flatten)\n",
    "latent_id = tf.keras.layers.Dense(ID, activation=\"relu\")(flatten)\n",
    "latent_plus = tf.keras.layers.Dense(ID+radius, activation=\"relu\")(flatten)\n",
    "\n",
    "hidden_minus = tf.keras.layers.Dense(28 * 28)(latent_minus)\n",
    "hidden_id = tf.keras.layers.Dense(28 * 28)(latent_id)\n",
    "hidden_plus = tf.keras.layers.Dense(28 * 28)(latent_plus)\n",
    "\n",
    "output_minus = tf.keras.layers.Reshape([28, 28])(hidden_minus)\n",
    "output_id = tf.keras.layers.Reshape([28, 28])(hidden_id)\n",
    "output_plus = tf.keras.layers.Reshape([28, 28])(hidden_plus)\n",
    "\n",
    "model = tf.keras.Model(inputs=[input],\n",
    "                       outputs=[output_minus, output_id, output_plus])\n",
    "\n",
    "model.compile(loss=\"mse\", optimizer=\"nadam\",\n",
    "              metrics=[\"RootMeanSquaredError\"])\n",
    "history = model.fit(X_train, X_train, epochs=10,\n",
    "                         validation_data=(X_valid, X_valid))"
   ]
  },
  {
   "cell_type": "code",
   "execution_count": 50,
   "id": "45060dd6",
   "metadata": {},
   "outputs": [
    {
     "name": "stdout",
     "output_type": "stream",
     "text": [
      "Result of 190: 0.006224620621651411\n",
      "\n",
      "Result of 200: 0.0061158593744039536\n",
      "\n",
      "Result of 210: 0.006166534963995218\n"
     ]
    }
   ],
   "source": [
    "results = []\n",
    "\n",
    "for i in history.history:\n",
    "    results.append((i, history.history[i][-1]))\n",
    "\n",
    "# 'ID - radius' validation loss\n",
    "(ID-radius), results[8][1]\n",
    "\n",
    "print(\"Result of {}: {}\\n\".format(ID-radius,results[8][1]))\n",
    "print(\"Result of {}: {}\\n\".format(ID,results[9][1]))\n",
    "print(\"Result of {}: {}\".format(ID+radius,results[10][1]))"
   ]
  },
  {
   "cell_type": "code",
   "execution_count": null,
   "id": "4bf71f81",
   "metadata": {},
   "outputs": [],
   "source": []
  }
 ],
 "metadata": {
  "kernelspec": {
   "display_name": "Python 3 (ipykernel)",
   "language": "python",
   "name": "python3"
  },
  "language_info": {
   "codemirror_mode": {
    "name": "ipython",
    "version": 3
   },
   "file_extension": ".py",
   "mimetype": "text/x-python",
   "name": "python",
   "nbconvert_exporter": "python",
   "pygments_lexer": "ipython3",
   "version": "3.9.17"
  }
 },
 "nbformat": 4,
 "nbformat_minor": 5
}
