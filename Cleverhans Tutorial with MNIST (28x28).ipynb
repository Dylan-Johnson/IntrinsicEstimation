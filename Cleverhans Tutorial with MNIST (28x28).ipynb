{
 "cells": [
  {
   "cell_type": "code",
   "execution_count": 19,
   "id": "62b60370",
   "metadata": {},
   "outputs": [],
   "source": [
    "import numpy as np\n",
    "import tensorflow as tf\n",
    "from absl import app, flags\n",
    "from easydict import EasyDict\n",
    "from tensorflow.keras import Model\n",
    "from tensorflow.keras.layers import Dense, Dropout, Flatten, Conv2D\n",
    "from cleverhans.tf2.attacks.projected_gradient_descent import projected_gradient_descent\n",
    "from cleverhans.tf2.attacks.fast_gradient_method import fast_gradient_method\n",
    "from sklearn import datasets\n",
    "from sklearn.model_selection import train_test_split\n",
    "import time\n",
    "from IPython.display import clear_output\n",
    "from sklearn.metrics import f1_score\n",
    "import matplotlib.pyplot as plt"
   ]
  },
  {
   "cell_type": "markdown",
   "id": "6be9c2ff",
   "metadata": {},
   "source": [
    "### Initial Experiment (no modification w/ MNIST) ###"
   ]
  },
  {
   "cell_type": "code",
   "execution_count": 31,
   "id": "80ecb44e",
   "metadata": {},
   "outputs": [],
   "source": [
    "#X,y = datasets.load_digits(return_X_y=True, as_frame=True)\n",
    "#X = X/255.0\n",
    "\n",
    "(x_train, y_train), (x_test, y_test) = tf.keras.datasets.mnist.load_data(path='mnist.npz')\n",
    "x_train = x_train / 255.0\n",
    "x_test = x_test / 255.0\n",
    "#X_train, X_test, y_train, y_test = train_test_split(X, y, test_size=0.2, random_state=42, stratify=y)"
   ]
  },
  {
   "cell_type": "code",
   "execution_count": 32,
   "id": "5f8201ba",
   "metadata": {},
   "outputs": [
    {
     "data": {
      "image/png": "[encoded data removed]",
      "text/plain": [
       "<Figure size 640x480 with 2 Axes>"
      ]
     },
     "metadata": {},
     "output_type": "display_data"
    }
   ],
   "source": [
    "instance = x_train[0].reshape(28,28)\n",
    "plt.figure()\n",
    "plt.imshow(instance, cmap=plt.cm.gray_r)\n",
    "plt.colorbar()\n",
    "plt.grid(False)\n",
    "plt.colormaps\n",
    "plt.show()"
   ]
  },
  {
   "cell_type": "code",
   "execution_count": 33,
   "id": "d925afbc",
   "metadata": {},
   "outputs": [
    {
     "name": "stdout",
     "output_type": "stream",
     "text": [
      "--- 8.835453510284424 seconds ---\n"
     ]
    }
   ],
   "source": [
    "ID = 15\n",
    "\n",
    "model = tf.keras.Sequential([\n",
    "    tf.keras.layers.Input(shape=(28,28)),\n",
    "    tf.keras.layers.Flatten(),\n",
    "    tf.keras.layers.Dense(ID, activation='relu'),\n",
    "    tf.keras.layers.Dense(10)\n",
    "])\n",
    "\n",
    "model.compile(optimizer='adam',\n",
    "              loss=tf.keras.losses.SparseCategoricalCrossentropy(from_logits=True),\n",
    "              metrics=['accuracy'])\n",
    "\n",
    "start_time = time.time()\n",
    "\n",
    "model.fit(x_train, y_train, epochs=10)\n",
    "\n",
    "clear_output(wait=True)\n",
    "\n",
    "print(\"--- %s seconds ---\" % (time.time() - start_time))"
   ]
  },
  {
   "cell_type": "code",
   "execution_count": 34,
   "id": "06f24308",
   "metadata": {},
   "outputs": [
    {
     "name": "stdout",
     "output_type": "stream",
     "text": [
      "313/313 [==============================] - 0s 447us/step - loss: 0.1698 - accuracy: 0.9526\n",
      "313/313 [==============================] - 0s 356us/step\n",
      "\n",
      "Test accuracy: 0.9526000022888184\n",
      "\n",
      "Test F1 (weighted): 0.952616056387362\n"
     ]
    }
   ],
   "source": [
    "test_loss, test_acc = model.evaluate(x_test,  y_test)\n",
    "f1 = f1_score(y_test, [np.argmax(a) for a in model.predict(x_test)], average='weighted')\n",
    "\n",
    "print('\\nTest accuracy:', test_acc)\n",
    "print('\\nTest F1 (weighted):', f1)"
   ]
  },
  {
   "cell_type": "markdown",
   "id": "01e268b9",
   "metadata": {},
   "source": [
    "### PGD Experiment (modification w/ MNIST) ###\n",
    "Establish values for attack testing and training the model:"
   ]
  },
  {
   "cell_type": "code",
   "execution_count": 199,
   "id": "f06c6615",
   "metadata": {},
   "outputs": [],
   "source": [
    "from cleverhans.tf2.attacks.projected_gradient_descent import projected_gradient_descent\n",
    "from cleverhans.tf2.attacks.fast_gradient_method import fast_gradient_method"
   ]
  },
  {
   "cell_type": "markdown",
   "id": "0c8e149d",
   "metadata": {},
   "source": [
    "Load the dataset:"
   ]
  },
  {
   "cell_type": "code",
   "execution_count": 200,
   "id": "0859efe9",
   "metadata": {},
   "outputs": [],
   "source": [
    "X, y = datasets.load_digits(return_X_y=True, as_frame=True)\n",
    "X_train, X_test, y_train, y_test = train_test_split(X, y, test_size=0.2, random_state=42, stratify=y)\n",
    "X_train /= 255.0\n",
    "X_test /= 255.0"
   ]
  },
  {
   "cell_type": "markdown",
   "id": "8b549a97",
   "metadata": {},
   "source": [
    "Defining the model architecture and metrics:"
   ]
  },
  {
   "cell_type": "code",
   "execution_count": 239,
   "id": "b48a8a33",
   "metadata": {},
   "outputs": [],
   "source": [
    "shape=64\n",
    "ID=13\n",
    "\n",
    "model = tf.keras.Sequential([\n",
    "    tf.keras.layers.Input(shape=(shape)),\n",
    "    tf.keras.layers.Dense(ID, activation='relu'),\n",
    "    tf.keras.layers.Dense(10)\n",
    "])\n",
    "\n",
    "loss_object = tf.losses.SparseCategoricalCrossentropy(from_logits=True)\n",
    "optimizer = tf.optimizers.Adam(learning_rate=0.001)\n",
    "\n",
    "# Metrics to track the different accuracies.\n",
    "train_loss = tf.metrics.Mean(name=\"train_loss\")\n",
    "test_acc_clean = tf.metrics.SparseCategoricalAccuracy()\n",
    "test_acc_fgsm = tf.metrics.SparseCategoricalAccuracy()\n",
    "test_acc_pgd = tf.metrics.SparseCategoricalAccuracy()"
   ]
  },
  {
   "cell_type": "code",
   "execution_count": 240,
   "id": "3914658e",
   "metadata": {},
   "outputs": [],
   "source": [
    "@tf.function\n",
    "def train_step(x, y):\n",
    "    with tf.GradientTape() as tape:\n",
    "        predictions = model(x)\n",
    "        loss = loss_object(y, predictions)\n",
    "    gradients = tape.gradient(loss, model.trainable_variables)\n",
    "    optimizer.apply_gradients(zip(gradients, model.trainable_variables))\n",
    "    train_loss(loss)"
   ]
  },
  {
   "cell_type": "code",
   "execution_count": 251,
   "id": "4deae244",
   "metadata": {},
   "outputs": [
    {
     "name": "stdout",
     "output_type": "stream",
     "text": [
      "    128/Unknown - 0s 0s/step - loss: 0.179898"
     ]
    }
   ],
   "source": [
    "batch_size = 128\n",
    "\n",
    "flags_nb_epochs = 50       # number of epochs\n",
    "flags_eps = 0.3            # Total epsilon for FGM and PGD attacks\n",
    "flags_adv_train = False    # Use adversarial training (on PGD adversarial examples).\n",
    "\n",
    "# Train model with adversarial training\n",
    "for epoch in range(flags_nb_epochs):\n",
    "    # keras like display of progress\n",
    "    progress_bar_train = tf.keras.utils.Progbar(None)\n",
    "    for i in range((X_train.shape[0] // batch_size)+1):\n",
    "        a = 128 * i\n",
    "        b = min(128 * (i+1), X_train.shape[0]-1)\n",
    "        x = tf.constant(X_train.iloc[a:b].astype('float32'))\n",
    "        y = y_train[a:b]\n",
    "        if flags_adv_train:\n",
    "            # Replace clean example with adversarial example for adversarial training\n",
    "            x = projected_gradient_descent(model, tensor, flags_eps, 0.01, 40, np.inf)\n",
    "        train_step(x, y)\n",
    "        progress_bar_train.add(x.shape[0], values=[(\"loss\", train_loss.result())])"
   ]
  },
  {
   "cell_type": "code",
   "execution_count": 252,
   "id": "1e66a2d6",
   "metadata": {},
   "outputs": [
    {
     "data": {
      "text/plain": [
       "<tf.Tensor: shape=(), dtype=float32, numpy=0.0069444445>"
      ]
     },
     "execution_count": 252,
     "metadata": {},
     "output_type": "execute_result"
    }
   ],
   "source": [
    "# Evaluate on clean and adversarial data\n",
    "x = tf.constant(X_test.astype('float32'))\n",
    "y = y_test\n",
    "y_pred = model(x)\n",
    "test_acc_clean(y, y_pred)\n",
    "\n",
    "x_fgm = fast_gradient_method(model, x, flags_eps, np.inf)\n",
    "y_pred_fgm = model(x_fgm)\n",
    "test_acc_fgsm(y, y_pred_fgm)\n",
    "\n",
    "x_pgd = projected_gradient_descent(model, x, flags_eps, 0.01, 40, np.inf)\n",
    "y_pred_pgd = model(x_pgd)\n",
    "test_acc_pgd(y, y_pred_pgd)"
   ]
  },
  {
   "cell_type": "code",
   "execution_count": 253,
   "id": "767aafe3",
   "metadata": {},
   "outputs": [
    {
     "name": "stdout",
     "output_type": "stream",
     "text": [
      "test acc on clean examples (%): 83.611\n",
      "test acc on FGM adversarial examples (%): 0.972\n",
      "test acc on PGD adversarial examples (%): 0.694\n"
     ]
    }
   ],
   "source": [
    "print(\n",
    "    \"test acc on clean examples (%): {:.3f}\".format(test_acc_clean.result() * 100)\n",
    ")\n",
    "print(\n",
    "    \"test acc on FGM adversarial examples (%): {:.3f}\".format(\n",
    "        test_acc_fgsm.result() * 100\n",
    "    )\n",
    ")\n",
    "print(\n",
    "    \"test acc on PGD adversarial examples (%): {:.3f}\".format(\n",
    "        test_acc_pgd.result() * 100\n",
    "    )\n",
    ")"
   ]
  },
  {
   "cell_type": "code",
   "execution_count": 315,
   "id": "826854c1",
   "metadata": {},
   "outputs": [
    {
     "data": {
      "text/plain": [
       "5"
      ]
     },
     "execution_count": 315,
     "metadata": {},
     "output_type": "execute_result"
    }
   ],
   "source": [
    "#[np.argmax(a) for a in model.predict(X_test)]\n",
    "np.argmax(y_pred[0])"
   ]
  },
  {
   "cell_type": "code",
   "execution_count": 317,
   "id": "d0a4a5b3",
   "metadata": {},
   "outputs": [
    {
     "data": {
      "image/png": "[encoded data removed]",
      "text/plain": [
       "<Figure size 1000x300 with 3 Axes>"
      ]
     },
     "metadata": {},
     "output_type": "display_data"
    },
    {
     "data": {
      "image/png": "[encoded data removed]",
      "text/plain": [
       "<Figure size 1000x300 with 3 Axes>"
      ]
     },
     "metadata": {},
     "output_type": "display_data"
    },
    {
     "data": {
      "image/png": "[encoded data removed]",
      "text/plain": [
       "<Figure size 1000x300 with 3 Axes>"
      ]
     },
     "metadata": {},
     "output_type": "display_data"
    }
   ],
   "source": [
    "digits = datasets.load_digits()\n",
    "\n",
    "for index in range(0,3):\n",
    "    _, axes = plt.subplots(nrows=1, ncols=3, figsize=(10, 3))\n",
    "    for ax, image, label, pred in zip(axes, \n",
    "                                [x, x_fgm, x_pgd], \n",
    "                                np.full((3), y.iloc[index]),\n",
    "                                [np.argmax(y_pred[index]), np.argmax(y_pred_fgm[index]), np.argmax(y_pred_pgd[index])]\n",
    "                               ):\n",
    "        image = image[index].numpy().reshape(8,8)\n",
    "        ax.set_axis_off()\n",
    "        ax.imshow(image, cmap=plt.cm.gray_r, interpolation=\"nearest\")\n",
    "        ax.set_title(\"True Label: {}\\nPred. Label: {}\".format(label, pred))"
   ]
  },
  {
   "cell_type": "code",
   "execution_count": null,
   "id": "c673b61e",
   "metadata": {},
   "outputs": [],
   "source": []
  }
 ],
 "metadata": {
  "kernelspec": {
   "display_name": "Python 3 (ipykernel)",
   "language": "python",
   "name": "python3"
  },
  "language_info": {
   "codemirror_mode": {
    "name": "ipython",
    "version": 3
   },
   "file_extension": ".py",
   "mimetype": "text/x-python",
   "name": "python",
   "nbconvert_exporter": "python",
   "pygments_lexer": "ipython3",
   "version": "3.9.17"
  }
 },
 "nbformat": 4,
 "nbformat_minor": 5
}
